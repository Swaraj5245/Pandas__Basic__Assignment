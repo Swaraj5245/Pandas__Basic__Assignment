{
 "cells": [
  {
   "cell_type": "markdown",
   "metadata": {},
   "source": [
    "### Q1. Create a Pandas Series that contains the following data: 4, 8, 15, 16, 23, and 42. Then, print the series."
   ]
  },
  {
   "cell_type": "markdown",
   "metadata": {},
   "source": [
    "creating a list which contain the data"
   ]
  },
  {
   "cell_type": "code",
   "execution_count": 2,
   "metadata": {},
   "outputs": [],
   "source": [
    "data=[4,8,15,16,23,42]"
   ]
  },
  {
   "cell_type": "markdown",
   "metadata": {},
   "source": [
    "creating a *Pandas Series* and printing it's elements"
   ]
  },
  {
   "cell_type": "code",
   "execution_count": 3,
   "metadata": {},
   "outputs": [
    {
     "name": "stdout",
     "output_type": "stream",
     "text": [
      "0     4\n",
      "1     8\n",
      "2    15\n",
      "3    16\n",
      "4    23\n",
      "5    42\n",
      "dtype: int64\n"
     ]
    }
   ],
   "source": [
    "import pandas as pd\n",
    "series=pd.Series(data)\n",
    "print(series)"
   ]
  },
  {
   "cell_type": "markdown",
   "metadata": {},
   "source": [
    "### Q2. Create a variable of list type containing 10 elements in it, and apply pandas.Series function on the variable print it."
   ]
  },
  {
   "cell_type": "markdown",
   "metadata": {},
   "source": [
    "**creating a variable of list type which contian the 10 contries name as list element**"
   ]
  },
  {
   "cell_type": "code",
   "execution_count": 4,
   "metadata": {},
   "outputs": [],
   "source": [
    "contries_list=['India','China','US','Finland','Germany','Denmark','Franch','Thailand','Singapore','Australia']"
   ]
  },
  {
   "cell_type": "markdown",
   "metadata": {},
   "source": [
    "For applying *pandas.Series* function to the list variable **contries_list**"
   ]
  },
  {
   "cell_type": "code",
   "execution_count": 5,
   "metadata": {},
   "outputs": [
    {
     "name": "stdout",
     "output_type": "stream",
     "text": [
      "0        India\n",
      "1        China\n",
      "2           US\n",
      "3      Finland\n",
      "4      Germany\n",
      "5      Denmark\n",
      "6       Franch\n",
      "7     Thailand\n",
      "8    Singapore\n",
      "9    Australia\n",
      "dtype: object\n"
     ]
    }
   ],
   "source": [
    "contries=pd.Series(contries_list)\n",
    "\n",
    "print(contries)"
   ]
  },
  {
   "cell_type": "markdown",
   "metadata": {},
   "source": [
    "### Q3. Create a Pandas DataFrame that contains the following data:"
   ]
  },
  {
   "cell_type": "code",
   "execution_count": 6,
   "metadata": {},
   "outputs": [],
   "source": [
    "data1={\n",
    "           'Name':['Alice','Bob','Claire'],\n",
    "           'Age':[25,30,27],\n",
    "           'Gender':['Female','Male','Female']\n",
    "           }"
   ]
  },
  {
   "cell_type": "code",
   "execution_count": 7,
   "metadata": {},
   "outputs": [],
   "source": [
    "dataframe=pd.DataFrame(data1)"
   ]
  },
  {
   "cell_type": "code",
   "execution_count": 8,
   "metadata": {},
   "outputs": [
    {
     "name": "stdout",
     "output_type": "stream",
     "text": [
      "     Name  Age  Gender\n",
      "0   Alice   25  Female\n",
      "1     Bob   30    Male\n",
      "2  Claire   27  Female\n"
     ]
    }
   ],
   "source": [
    "print(dataframe)"
   ]
  },
  {
   "cell_type": "markdown",
   "metadata": {},
   "source": [
    "### Q4. What is ‘DataFrame’ in pandas and how is it different from pandas.series? Explain with an example."
   ]
  },
  {
   "cell_type": "markdown",
   "metadata": {},
   "source": [
    "In Pandas **DataFrame** is a Two-Dimentional data structure, it hold's data of multiple type's like int,string,boolean,list. it hold's data in a Tabular Format like a Sql, in a Row's and column's.  \n",
    "where's the **pandas.series** is a one dimentional data strucure , it hold's data of multiple type's like int,string ,boolean, list. it hold's data like element's in list, array and the data of one column\n",
    "\n",
    "#### Example:\n",
    "opening a random file of a DataFrame type and extracting a data from it using padas function pandas.Series"
   ]
  },
  {
   "cell_type": "code",
   "execution_count": 9,
   "metadata": {},
   "outputs": [
    {
     "name": "stdout",
     "output_type": "stream",
     "text": [
      "<class 'pandas.core.frame.DataFrame'>\n",
      "  Month   \"Average\"   \"2005\"   \"2006\"   \"2007\"   \"2008\"   \"2009\"   \"2010\"  \\\n",
      "0   May         0.1        0        0        1        1        0        0   \n",
      "1   Jun         0.5        2        1        1        0        0        1   \n",
      "2   Jul         0.7        5        1        1        2        0        1   \n",
      "3   Aug         2.3        6        3        2        4        4        4   \n",
      "4   Sep         3.5        6        4        7        4        2        8   \n",
      "5   Oct         2.0        8        0        1        3        2        5   \n",
      "6   Nov         0.5        3        0        0        1        1        0   \n",
      "7   Dec         0.0        1        0        1        0        0        0   \n",
      "\n",
      "    \"2011\"   \"2012\"   \"2013\"   \"2014\"   \"2015\"  \n",
      "0        0        2        0        0        0  \n",
      "1        1        2        2        0        1  \n",
      "2        3        0        2        2        1  \n",
      "3        7        8        2        2        3  \n",
      "4        5        2        5        2        5  \n",
      "5        1        5        2        3        0  \n",
      "6        1        0        1        0        1  \n",
      "7        0        0        0        0        1  \n"
     ]
    }
   ],
   "source": [
    "file=pd.read_csv('sample1.csv')\n",
    "print(type(file))\n",
    "print(file)"
   ]
  },
  {
   "cell_type": "markdown",
   "metadata": {},
   "source": [
    "**Extracting data in a series from the dataframe**"
   ]
  },
  {
   "cell_type": "code",
   "execution_count": 10,
   "metadata": {},
   "outputs": [
    {
     "data": {
      "text/plain": [
       "0    May\n",
       "1    Jun\n",
       "2    Jul\n",
       "3    Aug\n",
       "4    Sep\n",
       "5    Oct\n",
       "6    Nov\n",
       "7    Dec\n",
       "Name: Month, dtype: object"
      ]
     },
     "execution_count": 10,
     "metadata": {},
     "output_type": "execute_result"
    }
   ],
   "source": [
    "file[\"Month\"]"
   ]
  },
  {
   "cell_type": "markdown",
   "metadata": {},
   "source": [
    "### Q5. What are some common functions you can use to manipulate data in a Pandas DataFrame? Can you give an example of when you might use one of these functions"
   ]
  },
  {
   "cell_type": "markdown",
   "metadata": {},
   "source": [
    "There is a sevaral function in Pandas which is used to manipulate data in in a DataFrame like ,head(), tail(),info(),describe()  \n",
    "\n",
    "**Example:-**  \n",
    "**head()** function is print the data of first 5 row"
   ]
  },
  {
   "cell_type": "code",
   "execution_count": 24,
   "metadata": {},
   "outputs": [
    {
     "data": {
      "text/html": [
       "<div>\n",
       "<style scoped>\n",
       "    .dataframe tbody tr th:only-of-type {\n",
       "        vertical-align: middle;\n",
       "    }\n",
       "\n",
       "    .dataframe tbody tr th {\n",
       "        vertical-align: top;\n",
       "    }\n",
       "\n",
       "    .dataframe thead th {\n",
       "        text-align: right;\n",
       "    }\n",
       "</style>\n",
       "<table border=\"1\" class=\"dataframe\">\n",
       "  <thead>\n",
       "    <tr style=\"text-align: right;\">\n",
       "      <th></th>\n",
       "      <th>Month</th>\n",
       "      <th>\"Average\"</th>\n",
       "      <th>\"2005\"</th>\n",
       "      <th>\"2006\"</th>\n",
       "      <th>\"2007\"</th>\n",
       "      <th>\"2008\"</th>\n",
       "      <th>\"2009\"</th>\n",
       "      <th>\"2010\"</th>\n",
       "      <th>\"2011\"</th>\n",
       "      <th>\"2012\"</th>\n",
       "      <th>\"2013\"</th>\n",
       "      <th>\"2014\"</th>\n",
       "      <th>\"2015\"</th>\n",
       "    </tr>\n",
       "  </thead>\n",
       "  <tbody>\n",
       "    <tr>\n",
       "      <th>0</th>\n",
       "      <td>May</td>\n",
       "      <td>0.1</td>\n",
       "      <td>0</td>\n",
       "      <td>0</td>\n",
       "      <td>1</td>\n",
       "      <td>1</td>\n",
       "      <td>0</td>\n",
       "      <td>0</td>\n",
       "      <td>0</td>\n",
       "      <td>2</td>\n",
       "      <td>0</td>\n",
       "      <td>0</td>\n",
       "      <td>0</td>\n",
       "    </tr>\n",
       "    <tr>\n",
       "      <th>1</th>\n",
       "      <td>Jun</td>\n",
       "      <td>0.5</td>\n",
       "      <td>2</td>\n",
       "      <td>1</td>\n",
       "      <td>1</td>\n",
       "      <td>0</td>\n",
       "      <td>0</td>\n",
       "      <td>1</td>\n",
       "      <td>1</td>\n",
       "      <td>2</td>\n",
       "      <td>2</td>\n",
       "      <td>0</td>\n",
       "      <td>1</td>\n",
       "    </tr>\n",
       "    <tr>\n",
       "      <th>2</th>\n",
       "      <td>Jul</td>\n",
       "      <td>0.7</td>\n",
       "      <td>5</td>\n",
       "      <td>1</td>\n",
       "      <td>1</td>\n",
       "      <td>2</td>\n",
       "      <td>0</td>\n",
       "      <td>1</td>\n",
       "      <td>3</td>\n",
       "      <td>0</td>\n",
       "      <td>2</td>\n",
       "      <td>2</td>\n",
       "      <td>1</td>\n",
       "    </tr>\n",
       "    <tr>\n",
       "      <th>3</th>\n",
       "      <td>Aug</td>\n",
       "      <td>2.3</td>\n",
       "      <td>6</td>\n",
       "      <td>3</td>\n",
       "      <td>2</td>\n",
       "      <td>4</td>\n",
       "      <td>4</td>\n",
       "      <td>4</td>\n",
       "      <td>7</td>\n",
       "      <td>8</td>\n",
       "      <td>2</td>\n",
       "      <td>2</td>\n",
       "      <td>3</td>\n",
       "    </tr>\n",
       "    <tr>\n",
       "      <th>4</th>\n",
       "      <td>Sep</td>\n",
       "      <td>3.5</td>\n",
       "      <td>6</td>\n",
       "      <td>4</td>\n",
       "      <td>7</td>\n",
       "      <td>4</td>\n",
       "      <td>2</td>\n",
       "      <td>8</td>\n",
       "      <td>5</td>\n",
       "      <td>2</td>\n",
       "      <td>5</td>\n",
       "      <td>2</td>\n",
       "      <td>5</td>\n",
       "    </tr>\n",
       "  </tbody>\n",
       "</table>\n",
       "</div>"
      ],
      "text/plain": [
       "  Month   \"Average\"   \"2005\"   \"2006\"   \"2007\"   \"2008\"   \"2009\"   \"2010\"  \\\n",
       "0   May         0.1        0        0        1        1        0        0   \n",
       "1   Jun         0.5        2        1        1        0        0        1   \n",
       "2   Jul         0.7        5        1        1        2        0        1   \n",
       "3   Aug         2.3        6        3        2        4        4        4   \n",
       "4   Sep         3.5        6        4        7        4        2        8   \n",
       "\n",
       "    \"2011\"   \"2012\"   \"2013\"   \"2014\"   \"2015\"  \n",
       "0        0        2        0        0        0  \n",
       "1        1        2        2        0        1  \n",
       "2        3        0        2        2        1  \n",
       "3        7        8        2        2        3  \n",
       "4        5        2        5        2        5  "
      ]
     },
     "execution_count": 24,
     "metadata": {},
     "output_type": "execute_result"
    }
   ],
   "source": [
    "ex=pd.read_csv('sample1.csv')\n",
    "ex.head()"
   ]
  },
  {
   "cell_type": "markdown",
   "metadata": {},
   "source": [
    "***tail()** function print the data of last 5 row's"
   ]
  },
  {
   "cell_type": "code",
   "execution_count": 25,
   "metadata": {},
   "outputs": [
    {
     "data": {
      "text/html": [
       "<div>\n",
       "<style scoped>\n",
       "    .dataframe tbody tr th:only-of-type {\n",
       "        vertical-align: middle;\n",
       "    }\n",
       "\n",
       "    .dataframe tbody tr th {\n",
       "        vertical-align: top;\n",
       "    }\n",
       "\n",
       "    .dataframe thead th {\n",
       "        text-align: right;\n",
       "    }\n",
       "</style>\n",
       "<table border=\"1\" class=\"dataframe\">\n",
       "  <thead>\n",
       "    <tr style=\"text-align: right;\">\n",
       "      <th></th>\n",
       "      <th>Month</th>\n",
       "      <th>\"Average\"</th>\n",
       "      <th>\"2005\"</th>\n",
       "      <th>\"2006\"</th>\n",
       "      <th>\"2007\"</th>\n",
       "      <th>\"2008\"</th>\n",
       "      <th>\"2009\"</th>\n",
       "      <th>\"2010\"</th>\n",
       "      <th>\"2011\"</th>\n",
       "      <th>\"2012\"</th>\n",
       "      <th>\"2013\"</th>\n",
       "      <th>\"2014\"</th>\n",
       "      <th>\"2015\"</th>\n",
       "    </tr>\n",
       "  </thead>\n",
       "  <tbody>\n",
       "    <tr>\n",
       "      <th>3</th>\n",
       "      <td>Aug</td>\n",
       "      <td>2.3</td>\n",
       "      <td>6</td>\n",
       "      <td>3</td>\n",
       "      <td>2</td>\n",
       "      <td>4</td>\n",
       "      <td>4</td>\n",
       "      <td>4</td>\n",
       "      <td>7</td>\n",
       "      <td>8</td>\n",
       "      <td>2</td>\n",
       "      <td>2</td>\n",
       "      <td>3</td>\n",
       "    </tr>\n",
       "    <tr>\n",
       "      <th>4</th>\n",
       "      <td>Sep</td>\n",
       "      <td>3.5</td>\n",
       "      <td>6</td>\n",
       "      <td>4</td>\n",
       "      <td>7</td>\n",
       "      <td>4</td>\n",
       "      <td>2</td>\n",
       "      <td>8</td>\n",
       "      <td>5</td>\n",
       "      <td>2</td>\n",
       "      <td>5</td>\n",
       "      <td>2</td>\n",
       "      <td>5</td>\n",
       "    </tr>\n",
       "    <tr>\n",
       "      <th>5</th>\n",
       "      <td>Oct</td>\n",
       "      <td>2.0</td>\n",
       "      <td>8</td>\n",
       "      <td>0</td>\n",
       "      <td>1</td>\n",
       "      <td>3</td>\n",
       "      <td>2</td>\n",
       "      <td>5</td>\n",
       "      <td>1</td>\n",
       "      <td>5</td>\n",
       "      <td>2</td>\n",
       "      <td>3</td>\n",
       "      <td>0</td>\n",
       "    </tr>\n",
       "    <tr>\n",
       "      <th>6</th>\n",
       "      <td>Nov</td>\n",
       "      <td>0.5</td>\n",
       "      <td>3</td>\n",
       "      <td>0</td>\n",
       "      <td>0</td>\n",
       "      <td>1</td>\n",
       "      <td>1</td>\n",
       "      <td>0</td>\n",
       "      <td>1</td>\n",
       "      <td>0</td>\n",
       "      <td>1</td>\n",
       "      <td>0</td>\n",
       "      <td>1</td>\n",
       "    </tr>\n",
       "    <tr>\n",
       "      <th>7</th>\n",
       "      <td>Dec</td>\n",
       "      <td>0.0</td>\n",
       "      <td>1</td>\n",
       "      <td>0</td>\n",
       "      <td>1</td>\n",
       "      <td>0</td>\n",
       "      <td>0</td>\n",
       "      <td>0</td>\n",
       "      <td>0</td>\n",
       "      <td>0</td>\n",
       "      <td>0</td>\n",
       "      <td>0</td>\n",
       "      <td>1</td>\n",
       "    </tr>\n",
       "  </tbody>\n",
       "</table>\n",
       "</div>"
      ],
      "text/plain": [
       "  Month   \"Average\"   \"2005\"   \"2006\"   \"2007\"   \"2008\"   \"2009\"   \"2010\"  \\\n",
       "3   Aug         2.3        6        3        2        4        4        4   \n",
       "4   Sep         3.5        6        4        7        4        2        8   \n",
       "5   Oct         2.0        8        0        1        3        2        5   \n",
       "6   Nov         0.5        3        0        0        1        1        0   \n",
       "7   Dec         0.0        1        0        1        0        0        0   \n",
       "\n",
       "    \"2011\"   \"2012\"   \"2013\"   \"2014\"   \"2015\"  \n",
       "3        7        8        2        2        3  \n",
       "4        5        2        5        2        5  \n",
       "5        1        5        2        3        0  \n",
       "6        1        0        1        0        1  \n",
       "7        0        0        0        0        1  "
      ]
     },
     "execution_count": 25,
     "metadata": {},
     "output_type": "execute_result"
    }
   ],
   "source": [
    "ex.tail()"
   ]
  },
  {
   "cell_type": "markdown",
   "metadata": {},
   "source": [
    "**describe()** function give's the discription of all the **int** datatype like mean,std,min"
   ]
  },
  {
   "cell_type": "code",
   "execution_count": 26,
   "metadata": {},
   "outputs": [
    {
     "data": {
      "text/html": [
       "<div>\n",
       "<style scoped>\n",
       "    .dataframe tbody tr th:only-of-type {\n",
       "        vertical-align: middle;\n",
       "    }\n",
       "\n",
       "    .dataframe tbody tr th {\n",
       "        vertical-align: top;\n",
       "    }\n",
       "\n",
       "    .dataframe thead th {\n",
       "        text-align: right;\n",
       "    }\n",
       "</style>\n",
       "<table border=\"1\" class=\"dataframe\">\n",
       "  <thead>\n",
       "    <tr style=\"text-align: right;\">\n",
       "      <th></th>\n",
       "      <th>\"Average\"</th>\n",
       "      <th>\"2005\"</th>\n",
       "      <th>\"2006\"</th>\n",
       "      <th>\"2007\"</th>\n",
       "      <th>\"2008\"</th>\n",
       "      <th>\"2009\"</th>\n",
       "      <th>\"2010\"</th>\n",
       "      <th>\"2011\"</th>\n",
       "      <th>\"2012\"</th>\n",
       "      <th>\"2013\"</th>\n",
       "      <th>\"2014\"</th>\n",
       "      <th>\"2015\"</th>\n",
       "    </tr>\n",
       "  </thead>\n",
       "  <tbody>\n",
       "    <tr>\n",
       "      <th>count</th>\n",
       "      <td>8.000000</td>\n",
       "      <td>8.000000</td>\n",
       "      <td>8.000000</td>\n",
       "      <td>8.000000</td>\n",
       "      <td>8.000000</td>\n",
       "      <td>8.000000</td>\n",
       "      <td>8.000000</td>\n",
       "      <td>8.00000</td>\n",
       "      <td>8.000000</td>\n",
       "      <td>8.000000</td>\n",
       "      <td>8.000000</td>\n",
       "      <td>8.000000</td>\n",
       "    </tr>\n",
       "    <tr>\n",
       "      <th>mean</th>\n",
       "      <td>1.200000</td>\n",
       "      <td>3.875000</td>\n",
       "      <td>1.125000</td>\n",
       "      <td>1.750000</td>\n",
       "      <td>1.875000</td>\n",
       "      <td>1.125000</td>\n",
       "      <td>2.375000</td>\n",
       "      <td>2.25000</td>\n",
       "      <td>2.375000</td>\n",
       "      <td>1.750000</td>\n",
       "      <td>1.125000</td>\n",
       "      <td>1.500000</td>\n",
       "    </tr>\n",
       "    <tr>\n",
       "      <th>std</th>\n",
       "      <td>1.254705</td>\n",
       "      <td>2.799872</td>\n",
       "      <td>1.552648</td>\n",
       "      <td>2.187628</td>\n",
       "      <td>1.642081</td>\n",
       "      <td>1.457738</td>\n",
       "      <td>2.973094</td>\n",
       "      <td>2.54951</td>\n",
       "      <td>2.825269</td>\n",
       "      <td>1.581139</td>\n",
       "      <td>1.246423</td>\n",
       "      <td>1.690309</td>\n",
       "    </tr>\n",
       "    <tr>\n",
       "      <th>min</th>\n",
       "      <td>0.000000</td>\n",
       "      <td>0.000000</td>\n",
       "      <td>0.000000</td>\n",
       "      <td>0.000000</td>\n",
       "      <td>0.000000</td>\n",
       "      <td>0.000000</td>\n",
       "      <td>0.000000</td>\n",
       "      <td>0.00000</td>\n",
       "      <td>0.000000</td>\n",
       "      <td>0.000000</td>\n",
       "      <td>0.000000</td>\n",
       "      <td>0.000000</td>\n",
       "    </tr>\n",
       "    <tr>\n",
       "      <th>25%</th>\n",
       "      <td>0.400000</td>\n",
       "      <td>1.750000</td>\n",
       "      <td>0.000000</td>\n",
       "      <td>1.000000</td>\n",
       "      <td>0.750000</td>\n",
       "      <td>0.000000</td>\n",
       "      <td>0.000000</td>\n",
       "      <td>0.75000</td>\n",
       "      <td>0.000000</td>\n",
       "      <td>0.750000</td>\n",
       "      <td>0.000000</td>\n",
       "      <td>0.750000</td>\n",
       "    </tr>\n",
       "    <tr>\n",
       "      <th>50%</th>\n",
       "      <td>0.600000</td>\n",
       "      <td>4.000000</td>\n",
       "      <td>0.500000</td>\n",
       "      <td>1.000000</td>\n",
       "      <td>1.500000</td>\n",
       "      <td>0.500000</td>\n",
       "      <td>1.000000</td>\n",
       "      <td>1.00000</td>\n",
       "      <td>2.000000</td>\n",
       "      <td>2.000000</td>\n",
       "      <td>1.000000</td>\n",
       "      <td>1.000000</td>\n",
       "    </tr>\n",
       "    <tr>\n",
       "      <th>75%</th>\n",
       "      <td>2.075000</td>\n",
       "      <td>6.000000</td>\n",
       "      <td>1.500000</td>\n",
       "      <td>1.250000</td>\n",
       "      <td>3.250000</td>\n",
       "      <td>2.000000</td>\n",
       "      <td>4.250000</td>\n",
       "      <td>3.50000</td>\n",
       "      <td>2.750000</td>\n",
       "      <td>2.000000</td>\n",
       "      <td>2.000000</td>\n",
       "      <td>1.500000</td>\n",
       "    </tr>\n",
       "    <tr>\n",
       "      <th>max</th>\n",
       "      <td>3.500000</td>\n",
       "      <td>8.000000</td>\n",
       "      <td>4.000000</td>\n",
       "      <td>7.000000</td>\n",
       "      <td>4.000000</td>\n",
       "      <td>4.000000</td>\n",
       "      <td>8.000000</td>\n",
       "      <td>7.00000</td>\n",
       "      <td>8.000000</td>\n",
       "      <td>5.000000</td>\n",
       "      <td>3.000000</td>\n",
       "      <td>5.000000</td>\n",
       "    </tr>\n",
       "  </tbody>\n",
       "</table>\n",
       "</div>"
      ],
      "text/plain": [
       "        \"Average\"    \"2005\"    \"2006\"    \"2007\"    \"2008\"    \"2009\"    \"2010\"  \\\n",
       "count    8.000000  8.000000  8.000000  8.000000  8.000000  8.000000  8.000000   \n",
       "mean     1.200000  3.875000  1.125000  1.750000  1.875000  1.125000  2.375000   \n",
       "std      1.254705  2.799872  1.552648  2.187628  1.642081  1.457738  2.973094   \n",
       "min      0.000000  0.000000  0.000000  0.000000  0.000000  0.000000  0.000000   \n",
       "25%      0.400000  1.750000  0.000000  1.000000  0.750000  0.000000  0.000000   \n",
       "50%      0.600000  4.000000  0.500000  1.000000  1.500000  0.500000  1.000000   \n",
       "75%      2.075000  6.000000  1.500000  1.250000  3.250000  2.000000  4.250000   \n",
       "max      3.500000  8.000000  4.000000  7.000000  4.000000  4.000000  8.000000   \n",
       "\n",
       "        \"2011\"    \"2012\"    \"2013\"    \"2014\"    \"2015\"  \n",
       "count  8.00000  8.000000  8.000000  8.000000  8.000000  \n",
       "mean   2.25000  2.375000  1.750000  1.125000  1.500000  \n",
       "std    2.54951  2.825269  1.581139  1.246423  1.690309  \n",
       "min    0.00000  0.000000  0.000000  0.000000  0.000000  \n",
       "25%    0.75000  0.000000  0.750000  0.000000  0.750000  \n",
       "50%    1.00000  2.000000  2.000000  1.000000  1.000000  \n",
       "75%    3.50000  2.750000  2.000000  2.000000  1.500000  \n",
       "max    7.00000  8.000000  5.000000  3.000000  5.000000  "
      ]
     },
     "execution_count": 26,
     "metadata": {},
     "output_type": "execute_result"
    }
   ],
   "source": [
    "ex.describe()"
   ]
  },
  {
   "cell_type": "markdown",
   "metadata": {},
   "source": [
    "### Q6. Which of the following is mutable in nature Series, DataFrame, Panel?"
   ]
  },
  {
   "cell_type": "markdown",
   "metadata": {},
   "source": [
    "**Series:-** is a mutable in nature, means we can modify the series after the creation. it's a one dimentional data structure & copable holding the data of any type.  \n",
    "\n",
    "**DataFrame:-** is also a mutable in nature, we can also modify it's data after the creation. it is a two dimentional data structure & capable of holding the data of any type. same as series dataframe  \n",
    "\n",
    "**Panel:-** panel is a immutable in nature, means we can't modify it's data after the creation. Panel is a 3D container of data and were a part of earlier version of pandas to handle 3D dimentional data, but the panel have been deprecated since version 0.25 and are considered immutable. instead of 3D data pandas recommnds using multiindex DataFrame or xarray"
   ]
  },
  {
   "cell_type": "markdown",
   "metadata": {},
   "source": [
    "### Q7. Create a DataFrame using multiple Series. Explain with an example."
   ]
  },
  {
   "cell_type": "code",
   "execution_count": 18,
   "metadata": {},
   "outputs": [],
   "source": [
    "Name=['Shreyansh',\"Swaraj\",\"Raj\",\"Sibbu\"]\n",
    "Age=[18,20,20,18]\n",
    "Location=['Mumbai',\"Agara\",\"indore\",\"chennai\"]"
   ]
  },
  {
   "cell_type": "code",
   "execution_count": 19,
   "metadata": {},
   "outputs": [],
   "source": [
    "b_list=[]\n",
    "DataFrame=pd.DataFrame(b_list)\n",
    "\n",
    "DataFrame['Name']=pd.Series(Name)\n",
    "DataFrame[\"Age\"]=pd.Series(Age)\n",
    "DataFrame['Location']=pd.Series(Location)"
   ]
  },
  {
   "cell_type": "code",
   "execution_count": 20,
   "metadata": {},
   "outputs": [],
   "source": [
    "DataFrame['Name']=pd.Series(Name)\n",
    "DataFrame[\"Age\"]=pd.Series(Age)\n",
    "DataFrame['Location']=pd.Series(Location)"
   ]
  },
  {
   "cell_type": "code",
   "execution_count": 21,
   "metadata": {},
   "outputs": [
    {
     "data": {
      "text/html": [
       "<div>\n",
       "<style scoped>\n",
       "    .dataframe tbody tr th:only-of-type {\n",
       "        vertical-align: middle;\n",
       "    }\n",
       "\n",
       "    .dataframe tbody tr th {\n",
       "        vertical-align: top;\n",
       "    }\n",
       "\n",
       "    .dataframe thead th {\n",
       "        text-align: right;\n",
       "    }\n",
       "</style>\n",
       "<table border=\"1\" class=\"dataframe\">\n",
       "  <thead>\n",
       "    <tr style=\"text-align: right;\">\n",
       "      <th></th>\n",
       "      <th>Name</th>\n",
       "      <th>Age</th>\n",
       "      <th>Location</th>\n",
       "    </tr>\n",
       "  </thead>\n",
       "  <tbody>\n",
       "    <tr>\n",
       "      <th>0</th>\n",
       "      <td>Shreyansh</td>\n",
       "      <td>18</td>\n",
       "      <td>Mumbai</td>\n",
       "    </tr>\n",
       "    <tr>\n",
       "      <th>1</th>\n",
       "      <td>Swaraj</td>\n",
       "      <td>20</td>\n",
       "      <td>Agara</td>\n",
       "    </tr>\n",
       "    <tr>\n",
       "      <th>2</th>\n",
       "      <td>Raj</td>\n",
       "      <td>20</td>\n",
       "      <td>indore</td>\n",
       "    </tr>\n",
       "    <tr>\n",
       "      <th>3</th>\n",
       "      <td>Sibbu</td>\n",
       "      <td>18</td>\n",
       "      <td>chennai</td>\n",
       "    </tr>\n",
       "  </tbody>\n",
       "</table>\n",
       "</div>"
      ],
      "text/plain": [
       "        Name  Age Location\n",
       "0  Shreyansh   18   Mumbai\n",
       "1     Swaraj   20    Agara\n",
       "2        Raj   20   indore\n",
       "3      Sibbu   18  chennai"
      ]
     },
     "execution_count": 21,
     "metadata": {},
     "output_type": "execute_result"
    }
   ],
   "source": [
    "DataFrame"
   ]
  }
 ],
 "metadata": {
  "kernelspec": {
   "display_name": "Python 3",
   "language": "python",
   "name": "python3"
  },
  "language_info": {
   "codemirror_mode": {
    "name": "ipython",
    "version": 3
   },
   "file_extension": ".py",
   "mimetype": "text/x-python",
   "name": "python",
   "nbconvert_exporter": "python",
   "pygments_lexer": "ipython3",
   "version": "3.11.6"
  }
 },
 "nbformat": 4,
 "nbformat_minor": 2
}
